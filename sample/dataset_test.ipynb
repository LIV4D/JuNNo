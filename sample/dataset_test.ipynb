{
 "cells": [
  {
   "cell_type": "code",
   "execution_count": 1,
   "metadata": {},
   "outputs": [
    {
     "data": {
      "text/plain": [
       "<IPython.core.display.Javascript object>"
      ]
     },
     "metadata": {},
     "output_type": "display_data"
    },
    {
     "data": {
      "text/html": [
       "<p>Failed to display Jupyter Widget of type <code>VBox</code>.</p>\n",
       "<p>\n",
       "  If you're reading this message in the Jupyter Notebook or JupyterLab Notebook, it may mean\n",
       "  that the widgets JavaScript is still loading. If this message persists, it\n",
       "  likely means that the widgets JavaScript library is either not installed or\n",
       "  not enabled. See the <a href=\"https://ipywidgets.readthedocs.io/en/stable/user_install.html\">Jupyter\n",
       "  Widgets Documentation</a> for setup instructions.\n",
       "</p>\n",
       "<p>\n",
       "  If you're reading this message in another frontend (for example, a static\n",
       "  rendering on GitHub or <a href=\"https://nbviewer.jupyter.org/\">NBViewer</a>),\n",
       "  it may mean that your frontend doesn't currently support widgets.\n",
       "</p>\n"
      ],
      "text/plain": [
       "VBox(children=(HBox(children=(HSpace(value='', layout=Layout(width='400px')), LogToolBar(children=(ToolButton(button_color='#bdbdbd', html='<i class=\"fa fa-info-circle\" style=\"font-size: 20px; color: #2176ff;\"></i>', layout=Layout(height='40px', width='40px'), pressed_color='#eee', toggleable=True, value=True), ToolButton(button_color='#bdbdbd', html='<i class=\"fa fa-exclamation-triangle\" style=\"font-size: 20px; color: #eba427;\"></i>', layout=Layout(height='40px', width='40px'), pressed_color='#eee', toggleable=True, value=True), ToolButton(button_color='#bdbdbd', html='<i class=\"fa fa-exclamation-circle\" style=\"font-size: 20px; color: #c71e1e;\"></i>', layout=Layout(height='40px', width='40px'), pressed_color='#eee', toggleable=True, value=True), ToolButton(button_color='#bdbdbd', html='<i class=\"fa fa-code\" style=\"font-size: 20px; color: #111;\"></i>', layout=Layout(height='40px', width='40px'), pressed_color='#eee', toggleable=True, value=True), HTML(value='', layout=Layout(width='25px')), Text(value='', layout=Layout(width='200px'), placeholder='log filters'), HTMLButton(button_color='#bdbdbd', html='Aa', layout=Layout(height='40px', width='40px'), pressed_color='#eee', toggleable=True, value=True)))), layout=Layout(align_items='flex-end', justify_content='space-between')), Accordion(children=(VBox(children=(Accordion(layout=Layout(max_height='500px', width='100%')), VSpace(value='', layout=Layout(height='25px')), LogView(layout=Layout(height='200px', overflow_y='auto'))), layout=Layout(overflow_y='auto')),), _titles={'0': 'global'})))"
      ]
     },
     "metadata": {},
     "output_type": "execute_result"
    }
   ],
   "source": [
    "from junno.j_utils import log\n",
    "log"
   ]
  },
  {
   "cell_type": "markdown",
   "metadata": {},
   "source": [
    "### Import"
   ]
  },
  {
   "cell_type": "code",
   "execution_count": 2,
   "metadata": {},
   "outputs": [],
   "source": [
    "import junno.datasets as D\n",
    "import time\n",
    "import multiprocessing as mp\n",
    "import pickle\n",
    "import numpy as np"
   ]
  },
  {
   "cell_type": "code",
   "execution_count": 3,
   "metadata": {},
   "outputs": [],
   "source": [
    "def f_wait(x):\n",
    "    time.sleep(0.1)\n",
    "    return x"
   ]
  },
  {
   "cell_type": "markdown",
   "metadata": {},
   "source": [
    "## Image Dataset"
   ]
  },
  {
   "cell_type": "code",
   "execution_count": 4,
   "metadata": {},
   "outputs": [],
   "source": [
    "PATH = '/home/gaby/Ecole/EPM/MaitriseGit/db/Gabriel/train/'"
   ]
  },
  {
   "cell_type": "code",
   "execution_count": 5,
   "metadata": {},
   "outputs": [],
   "source": [
    "raw = D.images(PATH+'raw_full/', name='raw')\n",
    "gt = D.images(PATH+'avgt_full/', name='gt')"
   ]
  },
  {
   "cell_type": "code",
   "execution_count": 6,
   "metadata": {},
   "outputs": [],
   "source": [
    "join = D.join('name', name=raw.col.name, raw=raw.col.data, gt=gt.col.data)"
   ]
  },
  {
   "cell_type": "code",
   "execution_count": 7,
   "metadata": {},
   "outputs": [
    {
     "data": {
      "text/plain": [
       "<IPython.core.display.Javascript object>"
      ]
     },
     "metadata": {},
     "output_type": "display_data"
    },
    {
     "data": {
      "text/plain": [
       "<IPython.core.display.Javascript object>"
      ]
     },
     "metadata": {},
     "output_type": "display_data"
    },
    {
     "data": {
      "text/plain": [
       "<IPython.core.display.Javascript object>"
      ]
     },
     "metadata": {},
     "output_type": "display_data"
    },
    {
     "data": {
      "text/plain": [
       "<IPython.core.display.Javascript object>"
      ]
     },
     "metadata": {},
     "output_type": "display_data"
    },
    {
     "data": {
      "text/plain": [
       "<IPython.core.display.Javascript object>"
      ]
     },
     "metadata": {},
     "output_type": "display_data"
    },
    {
     "data": {
      "text/plain": [
       "<IPython.core.display.Javascript object>"
      ]
     },
     "metadata": {},
     "output_type": "display_data"
    },
    {
     "data": {
      "text/html": [
       "<p>Failed to display Jupyter Widget of type <code>DatabaseView</code>.</p>\n",
       "<p>\n",
       "  If you're reading this message in the Jupyter Notebook or JupyterLab Notebook, it may mean\n",
       "  that the widgets JavaScript is still loading. If this message persists, it\n",
       "  likely means that the widgets JavaScript library is either not installed or\n",
       "  not enabled. See the <a href=\"https://ipywidgets.readthedocs.io/en/stable/user_install.html\">Jupyter\n",
       "  Widgets Documentation</a> for setup instructions.\n",
       "</p>\n",
       "<p>\n",
       "  If you're reading this message in another frontend (for example, a static\n",
       "  rendering on GitHub or <a href=\"https://nbviewer.jupyter.org/\">NBViewer</a>),\n",
       "  it may mean that your frontend doesn't currently support widgets.\n",
       "</p>\n"
      ],
      "text/plain": [
       "DatabaseView(children=(HBox(children=(ToolBar(children=(ToolButton(html='<i class=\"fa fa-eye-slash\" style=\"font-size: 20px; color: #333;\"></i>', layout=Layout(height='40px', width='40px'), resettable=False, toggleable=True, type='left', value=True), ToolButton(html='<i class=\"fa fa-list\" style=\"font-size: 20px; color: #333;\"></i>', layout=Layout(height='40px', width='40px'), resettable=False, toggleable=True, type='middle'), ToolButton(html='<i class=\"fa fa-image\" style=\"font-size: 20px; color: #333;\"></i>', layout=Layout(height='40px', width='40px'), resettable=False, toggleable=True, type='right'))), HTML(value='', layout=Layout(width='25px')), HierarchyBar(layout=Layout(width='70%'), value=['Join', 'label']), HTML(value='', layout=Layout(width='40px')), RichLabel(value='[88 rows]')), layout=Layout(align_content='flex-end')), VSpace(value='', layout=Layout(height='25px')), SimpleDatabaseView(clear_cache_data=True, columns_name='gt;array(uint32) [1x2048x2048]|name;UNKNOWN|raw;array(float32) [3x2048x2048]', layout=Layout(width='100%'), length=88, visible=False), HBox(children=(BoundedIntText(value=0, description='offset: ', layout=Layout(width='150px'), max=87), BoundedIntText(value=20, description='limit: ', layout=Layout(width='150px'), max=88), HSpace(value='', layout=Layout(width='25px')), TinyLoading(layout=Layout(width='150px'))), layout=Layout(align_items='center', display='none'))))"
      ]
     },
     "metadata": {},
     "output_type": "execute_result"
    }
   ],
   "source": [
    "labelled = join.as_label('gt', {1:'red', 2: 'blue'}, sampling=1/2)\n",
    "labelled"
   ]
  },
  {
   "cell_type": "code",
   "execution_count": null,
   "metadata": {},
   "outputs": [],
   "source": []
  },
  {
   "cell_type": "code",
   "execution_count": 8,
   "metadata": {},
   "outputs": [
    {
     "data": {
      "text/plain": [
       "<IPython.core.display.Javascript object>"
      ]
     },
     "metadata": {},
     "output_type": "display_data"
    },
    {
     "data": {
      "text/plain": [
       "<IPython.core.display.Javascript object>"
      ]
     },
     "metadata": {},
     "output_type": "display_data"
    },
    {
     "data": {
      "text/plain": [
       "<IPython.core.display.Javascript object>"
      ]
     },
     "metadata": {},
     "output_type": "display_data"
    },
    {
     "data": {
      "text/plain": [
       "<IPython.core.display.Javascript object>"
      ]
     },
     "metadata": {},
     "output_type": "display_data"
    },
    {
     "data": {
      "text/plain": [
       "<IPython.core.display.Javascript object>"
      ]
     },
     "metadata": {},
     "output_type": "display_data"
    },
    {
     "data": {
      "text/plain": [
       "<IPython.core.display.Javascript object>"
      ]
     },
     "metadata": {},
     "output_type": "display_data"
    },
    {
     "data": {
      "text/html": [
       "<p>Failed to display Jupyter Widget of type <code>DatabaseView</code>.</p>\n",
       "<p>\n",
       "  If you're reading this message in the Jupyter Notebook or JupyterLab Notebook, it may mean\n",
       "  that the widgets JavaScript is still loading. If this message persists, it\n",
       "  likely means that the widgets JavaScript library is either not installed or\n",
       "  not enabled. See the <a href=\"https://ipywidgets.readthedocs.io/en/stable/user_install.html\">Jupyter\n",
       "  Widgets Documentation</a> for setup instructions.\n",
       "</p>\n",
       "<p>\n",
       "  If you're reading this message in another frontend (for example, a static\n",
       "  rendering on GitHub or <a href=\"https://nbviewer.jupyter.org/\">NBViewer</a>),\n",
       "  it may mean that your frontend doesn't currently support widgets.\n",
       "</p>\n"
      ],
      "text/plain": [
       "DatabaseView(children=(HBox(children=(ToolBar(children=(ToolButton(html='<i class=\"fa fa-eye-slash\" style=\"font-size: 20px; color: #333;\"></i>', layout=Layout(height='40px', width='40px'), resettable=False, toggleable=True, type='left', value=True), ToolButton(html='<i class=\"fa fa-list\" style=\"font-size: 20px; color: #333;\"></i>', layout=Layout(height='40px', width='40px'), resettable=False, toggleable=True, type='middle'), ToolButton(html='<i class=\"fa fa-image\" style=\"font-size: 20px; color: #333;\"></i>', layout=Layout(height='40px', width='40px'), resettable=False, toggleable=True, type='right'))), HTML(value='', layout=Layout(width='25px')), HierarchyBar(layout=Layout(width='70%'), value=['Join', 'label', 'augment']), HTML(value='', layout=Layout(width='40px')), RichLabel(value='[440 rows]')), layout=Layout(align_content='flex-end')), VSpace(value='', layout=Layout(height='25px')), SimpleDatabaseView(clear_cache_data=True, columns_name='gt;array(uint32) [1x2048x2048]|name;UNKNOWN|raw;array(float32) [3x2048x2048]', layout=Layout(width='100%'), length=440, visible=False), HBox(children=(BoundedIntText(value=0, description='offset: ', layout=Layout(width='150px'), max=439), BoundedIntText(value=20, description='limit: ', layout=Layout(width='150px'), max=440), HSpace(value='', layout=Layout(width='25px')), TinyLoading(layout=Layout(width='150px'))), layout=Layout(align_items='center', display='none'))))"
      ]
     },
     "metadata": {},
     "output_type": "execute_result"
    }
   ],
   "source": [
    "RD = D.RandomDistribution\n",
    "da = D.DataAugment().flip_horizontal().rotate()\n",
    "augmented = labelled.augment(da, N=5)\n",
    "augmented"
   ]
  },
  {
   "cell_type": "code",
   "execution_count": 12,
   "metadata": {},
   "outputs": [
    {
     "name": "stdout",
     "output_type": "stream",
     "text": [
      "[[ 9.98523793e-01 -5.43160563e-02  5.71312772e+01]\n",
      " [ 5.43160563e-02  9.98523793e-01 -5.41080061e+01]]\n",
      "[[ 9.70300833e-01  2.41901411e-01 -2.17295098e+02]\n",
      " [-2.41901411e-01  9.70300833e-01  2.78118992e+02]]\n",
      "[[ 9.98523793e-01 -5.43160563e-02  5.71312772e+01]\n",
      " [ 5.43160563e-02  9.98523793e-01 -5.41080061e+01]]\n",
      "[[ 9.70300833e-01  2.41901411e-01 -2.17295098e+02]\n",
      " [-2.41901411e-01  9.70300833e-01  2.78118992e+02]]\n"
     ]
    },
    {
     "data": {
      "text/plain": [
       "<IPython.core.display.Javascript object>"
      ]
     },
     "metadata": {},
     "output_type": "display_data"
    },
    {
     "data": {
      "text/plain": [
       "<IPython.core.display.Javascript object>"
      ]
     },
     "metadata": {},
     "output_type": "display_data"
    },
    {
     "data": {
      "text/plain": [
       "<IPython.core.display.Javascript object>"
      ]
     },
     "metadata": {},
     "output_type": "display_data"
    },
    {
     "data": {
      "text/plain": [
       "<IPython.core.display.Javascript object>"
      ]
     },
     "metadata": {},
     "output_type": "display_data"
    },
    {
     "data": {
      "text/plain": [
       "<IPython.core.display.Javascript object>"
      ]
     },
     "metadata": {},
     "output_type": "display_data"
    },
    {
     "data": {
      "text/plain": [
       "<IPython.core.display.Javascript object>"
      ]
     },
     "metadata": {},
     "output_type": "display_data"
    },
    {
     "data": {
      "text/plain": [
       "<IPython.core.display.Javascript object>"
      ]
     },
     "metadata": {},
     "output_type": "display_data"
    },
    {
     "data": {
      "text/plain": [
       "<IPython.core.display.Javascript object>"
      ]
     },
     "metadata": {},
     "output_type": "display_data"
    },
    {
     "data": {
      "text/plain": [
       "<IPython.core.display.Javascript object>"
      ]
     },
     "metadata": {},
     "output_type": "display_data"
    },
    {
     "data": {
      "text/plain": [
       "<IPython.core.display.Javascript object>"
      ]
     },
     "metadata": {},
     "output_type": "display_data"
    },
    {
     "data": {
      "text/html": [
       "<p>Failed to display Jupyter Widget of type <code>SimpleDatabaseView</code>.</p>\n",
       "<p>\n",
       "  If you're reading this message in the Jupyter Notebook or JupyterLab Notebook, it may mean\n",
       "  that the widgets JavaScript is still loading. If this message persists, it\n",
       "  likely means that the widgets JavaScript library is either not installed or\n",
       "  not enabled. See the <a href=\"https://ipywidgets.readthedocs.io/en/stable/user_install.html\">Jupyter\n",
       "  Widgets Documentation</a> for setup instructions.\n",
       "</p>\n",
       "<p>\n",
       "  If you're reading this message in another frontend (for example, a static\n",
       "  rendering on GitHub or <a href=\"https://nbviewer.jupyter.org/\">NBViewer</a>),\n",
       "  it may mean that your frontend doesn't currently support widgets.\n",
       "</p>\n"
      ],
      "text/plain": [
       "SimpleDatabaseView(columns_name='pk;TEXT|gt;array(uint32) [1x2048x2048]|name;UNKNOWN|raw;array(float32) [3x2048x2048]', layout=Layout(width='100%'), length=2)"
      ]
     },
     "metadata": {},
     "output_type": "execute_result"
    }
   ],
   "source": [
    "da(labelled.read(0,2))"
   ]
  },
  {
   "cell_type": "code",
   "execution_count": null,
   "metadata": {
    "deletable": false,
    "editable": false,
    "run_control": {
     "frozen": true
    }
   },
   "outputs": [],
   "source": [
    "augmented.get_augmented(labelled.at(0))"
   ]
  },
  {
   "cell_type": "code",
   "execution_count": null,
   "metadata": {},
   "outputs": [],
   "source": []
  },
  {
   "cell_type": "code",
   "execution_count": null,
   "metadata": {},
   "outputs": [],
   "source": []
  },
  {
   "cell_type": "code",
   "execution_count": null,
   "metadata": {},
   "outputs": [],
   "source": []
  },
  {
   "cell_type": "code",
   "execution_count": null,
   "metadata": {},
   "outputs": [],
   "source": []
  },
  {
   "cell_type": "code",
   "execution_count": 9,
   "metadata": {},
   "outputs": [
    {
     "ename": "NameError",
     "evalue": "name 'stop' is not defined",
     "traceback": [
      "\u001b[0;31m--------------------------------------------------------------------\u001b[0m",
      "\u001b[0;31mNameError\u001b[0m                          Traceback (most recent call last)",
      "\u001b[0;32m<ipython-input-9-4f76a9dad686>\u001b[0m in \u001b[0;36m<module>\u001b[0;34m()\u001b[0m\n\u001b[0;32m----> 1\u001b[0;31m \u001b[0mstop\u001b[0m\u001b[0;34m\u001b[0m\u001b[0m\n\u001b[0m",
      "\u001b[0;31mNameError\u001b[0m: name 'stop' is not defined"
     ],
     "output_type": "error"
    }
   ],
   "source": [
    "stop"
   ]
  },
  {
   "cell_type": "markdown",
   "metadata": {
    "deletable": false,
    "editable": false,
    "run_control": {
     "frozen": true
    }
   },
   "source": [
    "## Shuffle"
   ]
  },
  {
   "cell_type": "code",
   "execution_count": null,
   "metadata": {},
   "outputs": [],
   "source": [
    "t = time.time()\n",
    "d = NumPyDataSet({'id':np.arange(0,50)}).apply('id', f_wait, 'same')\n",
    "s = d.shuffle(subgen=16)\n",
    "gen = s.generator(ncore=4, n=4)\n",
    "for r in gen:\n",
    "    print(r['id'])\n",
    "print('%.2fs'%(time.time()-t))"
   ]
  },
  {
   "cell_type": "code",
   "execution_count": null,
   "metadata": {},
   "outputs": [],
   "source": [
    "s.columns.id.format = {'default': '', 0: '0', 1: '1', 2:'2', 3:'3', 4:'4', 5:'5', 6:'test', 7:'7', 8:'8', 9:'9', 10:'10'}"
   ]
  },
  {
   "cell_type": "code",
   "execution_count": null,
   "metadata": {},
   "outputs": [],
   "source": [
    "s"
   ]
  },
  {
   "cell_type": "markdown",
   "metadata": {},
   "source": [
    "## Standard Datasets"
   ]
  },
  {
   "cell_type": "code",
   "execution_count": null,
   "metadata": {},
   "outputs": [],
   "source": [
    "from junno.datasets import cifar10_datasets\n",
    "c = cifar10_datasets()['test'].map(x1='x', y='y', x2='x')\n"
   ]
  },
  {
   "cell_type": "code",
   "execution_count": null,
   "metadata": {
    "scrolled": false
   },
   "outputs": [],
   "source": [
    "c_dupli = c.apply('x_copy', lambda x1: x1[0], n_factor=None)"
   ]
  },
  {
   "cell_type": "code",
   "execution_count": null,
   "metadata": {},
   "outputs": [],
   "source": []
  },
  {
   "cell_type": "code",
   "execution_count": null,
   "metadata": {},
   "outputs": [],
   "source": [
    "cache = c_dupli.cache(ondisk='test.hd5', overwrite=False)"
   ]
  },
  {
   "cell_type": "code",
   "execution_count": null,
   "metadata": {},
   "outputs": [],
   "source": [
    "cache.select('(y==1) | (y==2) | (y==3)').sort('y')"
   ]
  },
  {
   "cell_type": "code",
   "execution_count": null,
   "metadata": {},
   "outputs": [],
   "source": [
    "cache.mean(ncore=1, end=10)"
   ]
  },
  {
   "cell_type": "code",
   "execution_count": null,
   "metadata": {},
   "outputs": [],
   "source": [
    "cache.std('x_copy', end=2).shape"
   ]
  },
  {
   "cell_type": "code",
   "execution_count": null,
   "metadata": {},
   "outputs": [],
   "source": [
    "cache.std()"
   ]
  },
  {
   "cell_type": "code",
   "execution_count": null,
   "metadata": {},
   "outputs": [],
   "source": []
  },
  {
   "cell_type": "code",
   "execution_count": null,
   "metadata": {},
   "outputs": [],
   "source": []
  },
  {
   "cell_type": "markdown",
   "metadata": {},
   "source": [
    "## Generator Trace"
   ]
  },
  {
   "cell_type": "code",
   "execution_count": null,
   "metadata": {
    "deletable": false,
    "editable": false,
    "run_control": {
     "frozen": true
    }
   },
   "outputs": [],
   "source": [
    "gen = out_long.generator(n=7)"
   ]
  },
  {
   "cell_type": "code",
   "execution_count": null,
   "metadata": {
    "deletable": false,
    "editable": false,
    "run_control": {
     "frozen": true
    },
    "scrolled": true
   },
   "outputs": [],
   "source": [
    "r = gen.next()\n",
    "r.trace.print()"
   ]
  },
  {
   "cell_type": "code",
   "execution_count": null,
   "metadata": {
    "scrolled": false
   },
   "outputs": [],
   "source": [
    "out"
   ]
  },
  {
   "cell_type": "code",
   "execution_count": null,
   "metadata": {},
   "outputs": [],
   "source": []
  },
  {
   "cell_type": "code",
   "execution_count": null,
   "metadata": {
    "scrolled": true
   },
   "outputs": [],
   "source": [
    "c = out_long.as_cache(ncore=4)"
   ]
  },
  {
   "cell_type": "code",
   "execution_count": null,
   "metadata": {
    "deletable": false,
    "editable": false,
    "run_control": {
     "frozen": true
    }
   },
   "outputs": [],
   "source": [
    "pgen = out_long.generator(parallel_exec=True)"
   ]
  },
  {
   "cell_type": "code",
   "execution_count": null,
   "metadata": {
    "deletable": false,
    "editable": false,
    "run_control": {
     "frozen": true
    }
   },
   "outputs": [],
   "source": [
    "r.trace.print()"
   ]
  },
  {
   "cell_type": "code",
   "execution_count": null,
   "metadata": {
    "deletable": false,
    "editable": false,
    "run_control": {
     "frozen": true
    }
   },
   "outputs": [],
   "source": [
    "r = pgen.poll()"
   ]
  }
 ],
 "metadata": {
  "kernelspec": {
   "display_name": "Python 3",
   "language": "python",
   "name": "python3"
  },
  "language_info": {
   "codemirror_mode": {
    "name": "ipython",
    "version": 3
   },
   "file_extension": ".py",
   "mimetype": "text/x-python",
   "name": "python",
   "nbconvert_exporter": "python",
   "pygments_lexer": "ipython3",
   "version": "3.6.4"
  },
  "varInspector": {
   "cols": {
    "lenName": 16.0,
    "lenType": 16.0,
    "lenVar": 40.0
   },
   "kernels_config": {
    "python": {
     "delete_cmd_postfix": "",
     "delete_cmd_prefix": "del ",
     "library": "var_list.py",
     "varRefreshCmd": "print(var_dic_list())"
    },
    "r": {
     "delete_cmd_postfix": ") ",
     "delete_cmd_prefix": "rm(",
     "library": "var_list.r",
     "varRefreshCmd": "cat(var_dic_list()) "
    }
   },
   "types_to_exclude": [
    "module",
    "function",
    "builtin_function_or_method",
    "instance",
    "_Feature"
   ],
   "window_display": false
  }
 },
 "nbformat": 4,
 "nbformat_minor": 2
}
